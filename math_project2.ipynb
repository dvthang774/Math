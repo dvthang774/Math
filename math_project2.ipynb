{
 "cells": [
  {
   "cell_type": "code",
   "execution_count": 135,
   "metadata": {},
   "outputs": [],
   "source": [
    "# thư viện\n",
    "import statistics as sts\n",
    "import numpy as np\n",
    "import random \n",
    "from collections import Counter\n",
    "import pandas as pd\n",
    "import matplotlib.pyplot as plt\n",
    "import seaborn as sns\n",
    "import statsmodels.api as sm\n",
    "import pylab\n",
    "from scipy import stats"
   ]
  },
  {
   "cell_type": "code",
   "execution_count": 109,
   "metadata": {},
   "outputs": [],
   "source": [
    "\n",
    "    \n",
    "    \n",
    "# khởi tạo class\n",
    "class project01:\n",
    "    \n",
    "    def __init__(self, ar):\n",
    "        self.ar=ar\n",
    "        \n",
    "        \n",
    "    def setarray(n):\n",
    "        ar_ = []\n",
    "        for i in range(n):\n",
    "            a = random.randrange(100)\n",
    "            ar_.append(a)\n",
    "        ar = np.array(ar_)\n",
    "        return ar\n",
    "        \n",
    "    \n",
    "    def mean(self):\n",
    "        n = len(self.ar)\n",
    "        \n",
    "        get_sum = sum(self.ar)\n",
    "        mean = get_sum / n\n",
    "        return mean\n",
    "\n",
    "    def mode(self):\n",
    "        n = len(self.ar)\n",
    "  \n",
    "        data = Counter(self.ar)\n",
    "        get_mode = dict(data)\n",
    "        mode = [k for k, v in get_mode.items() if v == max(list(data.values()))]\n",
    "  \n",
    "        if len(mode) == n:\n",
    "            get_mode = \"No mode found\"\n",
    "        else:\n",
    "            get_mode = \"Mode is / are: \" + ', '.join(map(str, mode))\n",
    "        return mode\n",
    "        \n",
    "    def variance(self):\n",
    "        mean =sum(self.ar)/len(self.ar)\n",
    "        SUM= 0\n",
    "        for i in self.ar :\n",
    "            SUM +=(i-mean)**2\n",
    "            var = SUM/(len(self.ar)-1)\n",
    "        return var\n",
    "    \n",
    "    def std(self):\n",
    "        mean =sum(self.ar)/len(self.ar)\n",
    "        SUM= 0\n",
    "        for i in self.ar :\n",
    "            SUM +=(i-mean)**2\n",
    "\n",
    "\n",
    "\n",
    "        std = np.sqrt(SUM/(len(self.ar)-1)) \n",
    "        return std\n",
    "    \n",
    "\n",
    "\n",
    "\n",
    "    \n",
    "\n",
    "\n"
   ]
  },
  {
   "cell_type": "code",
   "execution_count": 63,
   "metadata": {},
   "outputs": [
    {
     "name": "stdout",
     "output_type": "stream",
     "text": [
      "\n"
     ]
    },
    {
     "ename": "ValueError",
     "evalue": "invalid literal for int() with base 10: ''",
     "output_type": "error",
     "traceback": [
      "\u001b[1;31m---------------------------------------------------------------------------\u001b[0m",
      "\u001b[1;31mValueError\u001b[0m                                Traceback (most recent call last)",
      "\u001b[1;32m<ipython-input-63-1115e8bda5bf>\u001b[0m in \u001b[0;36m<module>\u001b[1;34m\u001b[0m\n\u001b[1;32m----> 1\u001b[1;33m \u001b[0mn\u001b[0m \u001b[1;33m=\u001b[0m \u001b[0mint\u001b[0m\u001b[1;33m(\u001b[0m\u001b[0minput\u001b[0m\u001b[1;33m(\u001b[0m\u001b[1;33m)\u001b[0m\u001b[1;33m)\u001b[0m\u001b[1;33m\u001b[0m\u001b[1;33m\u001b[0m\u001b[0m\n\u001b[0m\u001b[0;32m      2\u001b[0m \u001b[0mar1\u001b[0m \u001b[1;33m=\u001b[0m \u001b[0mproject01\u001b[0m\u001b[1;33m.\u001b[0m\u001b[0msetarray\u001b[0m\u001b[1;33m(\u001b[0m\u001b[0mn\u001b[0m\u001b[1;33m)\u001b[0m\u001b[1;33m\u001b[0m\u001b[1;33m\u001b[0m\u001b[0m\n\u001b[0;32m      3\u001b[0m \u001b[0mar2\u001b[0m \u001b[1;33m=\u001b[0m \u001b[0mproject01\u001b[0m\u001b[1;33m.\u001b[0m\u001b[0msetarray\u001b[0m\u001b[1;33m(\u001b[0m\u001b[0mn\u001b[0m\u001b[1;33m)\u001b[0m\u001b[1;33m\u001b[0m\u001b[1;33m\u001b[0m\u001b[0m\n\u001b[0;32m      4\u001b[0m \u001b[0mprint\u001b[0m \u001b[1;33m(\u001b[0m\u001b[0mar1\u001b[0m\u001b[1;33m,\u001b[0m\u001b[0mar2\u001b[0m\u001b[1;33m)\u001b[0m\u001b[1;33m\u001b[0m\u001b[1;33m\u001b[0m\u001b[0m\n\u001b[0;32m      5\u001b[0m \u001b[1;33m\u001b[0m\u001b[0m\n",
      "\u001b[1;31mValueError\u001b[0m: invalid literal for int() with base 10: ''"
     ]
    }
   ],
   "source": [
    "n = int(input())\n",
    "ar1 = project01.setarray(n)\n",
    "ar2 = project01.setarray(n)\n",
    "print (ar1,ar2)\n",
    "\n",
    "pr1=project01(ar1)\n",
    "print(pr1.std())\n",
    "print(pr1.variance())\n",
    "print(pr1.mean())\n",
    "print(pr1.mode())\n",
    "\n"
   ]
  },
  {
   "cell_type": "raw",
   "metadata": {},
   "source": [
    "proj = project01(data)\n",
    "print(proj.mean())\n"
   ]
  },
  {
   "cell_type": "code",
   "execution_count": 64,
   "metadata": {},
   "outputs": [],
   "source": [
    "def setarray(n):\n",
    "        ar1_ = []\n",
    "        for i in range(n):\n",
    "            a = random.randrange(100)\n",
    "            ar1_.append(a)\n",
    "        ar1_ = np.array(ar1_)\n",
    "        return ar1_"
   ]
  },
  {
   "cell_type": "code",
   "execution_count": 65,
   "metadata": {},
   "outputs": [
    {
     "ename": "NameError",
     "evalue": "name 'xs' is not defined",
     "output_type": "error",
     "traceback": [
      "\u001b[1;31m---------------------------------------------------------------------------\u001b[0m",
      "\u001b[1;31mNameError\u001b[0m                                 Traceback (most recent call last)",
      "\u001b[1;32m<ipython-input-65-4fc028d72548>\u001b[0m in \u001b[0;36m<module>\u001b[1;34m\u001b[0m\n\u001b[1;32m----> 1\u001b[1;33m \u001b[0mvar\u001b[0m  \u001b[1;33m=\u001b[0m \u001b[0msum\u001b[0m\u001b[1;33m(\u001b[0m\u001b[0mpow\u001b[0m\u001b[1;33m(\u001b[0m\u001b[0mx\u001b[0m\u001b[1;33m-\u001b[0m\u001b[0mmean\u001b[0m\u001b[1;33m,\u001b[0m\u001b[1;36m2\u001b[0m\u001b[1;33m)\u001b[0m \u001b[1;32mfor\u001b[0m \u001b[0mx\u001b[0m \u001b[1;32min\u001b[0m \u001b[0mxs\u001b[0m\u001b[1;33m)\u001b[0m \u001b[1;33m/\u001b[0m \u001b[0mlen\u001b[0m\u001b[1;33m(\u001b[0m\u001b[0mxs\u001b[0m\u001b[1;33m)\u001b[0m  \u001b[1;31m# variance\u001b[0m\u001b[1;33m\u001b[0m\u001b[1;33m\u001b[0m\u001b[0m\n\u001b[0m\u001b[0;32m      2\u001b[0m \u001b[0mstd\u001b[0m  \u001b[1;33m=\u001b[0m \u001b[0mmath\u001b[0m\u001b[1;33m.\u001b[0m\u001b[0msqrt\u001b[0m\u001b[1;33m(\u001b[0m\u001b[0mvar\u001b[0m\u001b[1;33m)\u001b[0m  \u001b[1;31m# standard deviation\u001b[0m\u001b[1;33m\u001b[0m\u001b[1;33m\u001b[0m\u001b[0m\n",
      "\u001b[1;31mNameError\u001b[0m: name 'xs' is not defined"
     ]
    }
   ],
   "source": [
    "var  = sum(pow(x-mean,2) for x in xs) / len(xs)  # variance\n",
    "std  = math.sqrt(var)  # standard deviation"
   ]
  },
  {
   "cell_type": "code",
   "execution_count": 136,
   "metadata": {},
   "outputs": [],
   "source": [
    "class proj2:\n",
    "    def __init__(self, data):\n",
    "        self.data = data\n",
    "        self.mean = project01(data).mean()\n",
    "        self.mode = sts.mode(data)\n",
    "        self.var = np.var(data)\n",
    "        self.std = np.std(data)\n",
    "        self.min = np.min(data)\n",
    "        self.max = np.max(data)\n",
    "        self.median = sts.median(data)\n",
    "        self.per25= np.percentile(data,25)\n",
    "        self.per75 = np.percentile(data,75)\n",
    "        self.des = stats.describe(data)\n",
    "    \n",
    "    def quantile(self, s):\n",
    "        quantile = np.quantile(self.data,s)\n",
    "        return quantile \n",
    "        \n",
    "        \n",
    "    def hist(self):\n",
    "        plt.figure()\n",
    "        ax = sns.distplot(self.data)\n",
    "        plt.axvline(np.mean(self.data), color=\"r\", linestyle=\"dashed\", linewidth=5)\n",
    "        _, max_ = plt.ylim()\n",
    "        plt.text(\n",
    "            self.data.mean() + self.data.mean() / 10,\n",
    "            max_ - max_ / 10,\n",
    "            \"Mean: {:.2f}\".format(self.data.mean()),\n",
    "        )\n",
    "        plt.title(\"data\")\n",
    "        plt.xlabel(\"x\")\n",
    "        plt.ylabel(\"y\")\n",
    "        plt.show();\n",
    "        return plt.figure\n",
    "    \n",
    "    def qq(self):\n",
    "        sm.qqplot(self.data, line ='45')\n",
    "        pylab.show();"
   ]
  },
  {
   "cell_type": "code",
   "execution_count": 128,
   "metadata": {},
   "outputs": [
    {
     "data": {
      "text/plain": [
       "array([ 0.64189539,  1.29065266, -2.06286731, -1.59743125, -0.30242666,\n",
       "        0.24078054, -0.58071949,  1.17269873,  0.48150683, -0.56013498,\n",
       "       -0.72323333,  1.18602954,  2.88563078, -1.8156956 , -1.61987115,\n",
       "        0.11554601,  0.75909908,  0.17377428, -0.18546578, -0.32388666,\n",
       "       -0.93954258,  0.01253013,  0.53801864, -1.18396987, -1.01306714,\n",
       "       -1.0834292 , -0.97218965,  0.05843803,  0.22371899,  0.1170397 ,\n",
       "        1.08425503,  0.82056358,  1.54482867,  0.21369632, -1.24904581,\n",
       "        0.19866086, -0.21210398, -0.13379724, -0.220442  ,  2.02895713,\n",
       "       -0.95558958,  1.94767745, -0.27672366,  0.68820836,  0.45547188,\n",
       "        1.23143219,  1.56939988, -0.10974871,  0.45774666,  0.26987289,\n",
       "       -1.15923453,  0.60842218, -0.40390432,  0.72500138,  0.93512411,\n",
       "       -1.62151656, -0.47752356, -0.17644421, -0.91932452, -1.33631253,\n",
       "        0.42847181, -0.14164005, -1.63977094, -1.0553165 , -1.64771615,\n",
       "       -0.44999893,  1.4645976 ,  1.09341655, -1.69350476,  1.16198917,\n",
       "       -1.12879561, -0.17967976,  0.41670711,  0.96779405,  1.09912022,\n",
       "       -0.25973446,  0.27635762,  2.36778454,  0.13673421,  1.36841397,\n",
       "       -1.81037912,  0.98640703, -0.07282747,  0.65366153,  0.00870332,\n",
       "        1.03087926, -0.71080076,  0.40566651,  0.26520931, -0.42806639,\n",
       "        0.86795784, -0.10248017, -0.69972095,  0.22386153, -0.4329435 ,\n",
       "        1.15323011, -1.05944192,  0.67804898, -0.25601198, -0.26819569])"
      ]
     },
     "execution_count": 128,
     "metadata": {},
     "output_type": "execute_result"
    }
   ],
   "source": [
    "data = np.random.normal(0,1,100)\n",
    "data"
   ]
  },
  {
   "cell_type": "code",
   "execution_count": 137,
   "metadata": {},
   "outputs": [
    {
     "name": "stdout",
     "output_type": "stream",
     "text": [
      "Mean:  0.03479023221190517\n",
      "Mode:  0.6418953899775082\n",
      "Var:  0.994965516181286\n",
      "STD:  0.9974795818367843\n",
      "Min:  -2.062867306741629\n",
      "Max:  2.885630776288175\n",
      "Median:  0.03548407845962482\n",
      "25%:  -0.6104698576730219\n",
      "75%:  0.697406613926079\n",
      "-0.6104698576730219\n",
      "DescribeResult(nobs=100, minmax=(-2.062867306741629, 2.885630776288175), mean=0.03479023221190518, variance=1.00501567291039, skewness=0.12173804299340331, kurtosis=-0.2096043406702197)\n"
     ]
    },
    {
     "name": "stderr",
     "output_type": "stream",
     "text": [
      "C:\\Users\\Admin\\anaconda3\\lib\\site-packages\\seaborn\\distributions.py:2551: FutureWarning: `distplot` is a deprecated function and will be removed in a future version. Please adapt your code to use either `displot` (a figure-level function with similar flexibility) or `histplot` (an axes-level function for histograms).\n",
      "  warnings.warn(msg, FutureWarning)\n"
     ]
    },
    {
     "data": {
      "image/png": "[encoded data removed]",
      "text/plain": [
       "<Figure size 432x288 with 1 Axes>"
      ]
     },
     "metadata": {
      "needs_background": "light"
     },
     "output_type": "display_data"
    },
    {
     "data": {
      "image/png": "[encoded data removed]",
      "text/plain": [
       "<Figure size 432x288 with 1 Axes>"
      ]
     },
     "metadata": {
      "needs_background": "light"
     },
     "output_type": "display_data"
    }
   ],
   "source": [
    "pr2 = proj2(data)\n",
    "print('Mean: ',pr2.mean)\n",
    "print('Mode: ',pr2.mode)\n",
    "print('Var: ', pr2.var)\n",
    "print('STD: ',pr2.std)\n",
    "print('Min: ',pr2.min)\n",
    "print('Max: ',pr2.max)\n",
    "print('Median: ',pr2.median)\n",
    "print('25%: ',pr2.per25)\n",
    "print('75%: ',pr2.per75)\n",
    "print(pr2.quantile(0.25))\n",
    "print(pr2.des)\n",
    "pr2.hist()\n",
    "pr2.qq()"
   ]
  },
  {
   "cell_type": "code",
   "execution_count": null,
   "metadata": {},
   "outputs": [],
   "source": []
  }
 ],
 "metadata": {
  "kernelspec": {
   "display_name": "Python 3",
   "language": "python",
   "name": "python3"
  },
  "language_info": {
   "codemirror_mode": {
    "name": "ipython",
    "version": 3
   },
   "file_extension": ".py",
   "mimetype": "text/x-python",
   "name": "python",
   "nbconvert_exporter": "python",
   "pygments_lexer": "ipython3",
   "version": "3.8.5"
  }
 },
 "nbformat": 4,
 "nbformat_minor": 4
}
